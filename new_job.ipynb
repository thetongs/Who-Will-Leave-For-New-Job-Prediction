{
 "metadata": {
  "language_info": {
   "codemirror_mode": {
    "name": "ipython",
    "version": 3
   },
   "file_extension": ".py",
   "mimetype": "text/x-python",
   "name": "python",
   "nbconvert_exporter": "python",
   "pygments_lexer": "ipython3",
   "version": "3.7.9-final"
  },
  "orig_nbformat": 2,
  "kernelspec": {
   "name": "python3",
   "display_name": "Python 3.7.9 64-bit (conda)",
   "metadata": {
    "interpreter": {
     "hash": "c025eafbdb27d6b09e1d05e0a12fa97d629c8ef5574669226a5cfdf8aca065a7"
    }
   }
  }
 },
 "nbformat": 4,
 "nbformat_minor": 2,
 "cells": [
  {
   "cell_type": "code",
   "execution_count": 1,
   "metadata": {},
   "outputs": [],
   "source": [
    "## Problem statement\n",
    "# Based on the data given for month predict the employee \n",
    "# who can leave for new job.\n",
    "# 0 not looking for new job.\n",
    "# 1 looking for new job."
   ]
  },
  {
   "cell_type": "code",
   "execution_count": 1,
   "metadata": {},
   "outputs": [],
   "source": [
    "## Libraries\n",
    "#\n",
    "import numpy as np\n",
    "import pandas as pd\n",
    "import matplotlib.pyplot as plt\n"
   ]
  },
  {
   "cell_type": "code",
   "execution_count": 112,
   "metadata": {},
   "outputs": [
    {
     "output_type": "stream",
     "name": "stdout",
     "text": [
      "Training size : 19158\n"
     ]
    },
    {
     "output_type": "execute_result",
     "data": {
      "text/plain": [
       "   enrollee_id      city  city_development_index gender  \\\n",
       "0         8949  city_103                   0.920   Male   \n",
       "1        29725   city_40                   0.776   Male   \n",
       "2        11561   city_21                   0.624    NaN   \n",
       "3        33241  city_115                   0.789    NaN   \n",
       "4          666  city_162                   0.767   Male   \n",
       "\n",
       "       relevent_experience enrolled_university education_level  \\\n",
       "0  Has relevent experience       no_enrollment        Graduate   \n",
       "1   No relevent experience       no_enrollment        Graduate   \n",
       "2   No relevent experience    Full time course        Graduate   \n",
       "3   No relevent experience                 NaN        Graduate   \n",
       "4  Has relevent experience       no_enrollment         Masters   \n",
       "\n",
       "  major_discipline experience company_size    company_type last_new_job  \\\n",
       "0             STEM        >20          NaN             NaN            1   \n",
       "1             STEM         15        50-99         Pvt Ltd           >4   \n",
       "2             STEM          5          NaN             NaN        never   \n",
       "3  Business Degree         <1          NaN         Pvt Ltd        never   \n",
       "4             STEM        >20        50-99  Funded Startup            4   \n",
       "\n",
       "   training_hours  target  \n",
       "0              36     1.0  \n",
       "1              47     0.0  \n",
       "2              83     0.0  \n",
       "3              52     1.0  \n",
       "4               8     0.0  "
      ],
      "text/html": "<div>\n<style scoped>\n    .dataframe tbody tr th:only-of-type {\n        vertical-align: middle;\n    }\n\n    .dataframe tbody tr th {\n        vertical-align: top;\n    }\n\n    .dataframe thead th {\n        text-align: right;\n    }\n</style>\n<table border=\"1\" class=\"dataframe\">\n  <thead>\n    <tr style=\"text-align: right;\">\n      <th></th>\n      <th>enrollee_id</th>\n      <th>city</th>\n      <th>city_development_index</th>\n      <th>gender</th>\n      <th>relevent_experience</th>\n      <th>enrolled_university</th>\n      <th>education_level</th>\n      <th>major_discipline</th>\n      <th>experience</th>\n      <th>company_size</th>\n      <th>company_type</th>\n      <th>last_new_job</th>\n      <th>training_hours</th>\n      <th>target</th>\n    </tr>\n  </thead>\n  <tbody>\n    <tr>\n      <th>0</th>\n      <td>8949</td>\n      <td>city_103</td>\n      <td>0.920</td>\n      <td>Male</td>\n      <td>Has relevent experience</td>\n      <td>no_enrollment</td>\n      <td>Graduate</td>\n      <td>STEM</td>\n      <td>&gt;20</td>\n      <td>NaN</td>\n      <td>NaN</td>\n      <td>1</td>\n      <td>36</td>\n      <td>1.0</td>\n    </tr>\n    <tr>\n      <th>1</th>\n      <td>29725</td>\n      <td>city_40</td>\n      <td>0.776</td>\n      <td>Male</td>\n      <td>No relevent experience</td>\n      <td>no_enrollment</td>\n      <td>Graduate</td>\n      <td>STEM</td>\n      <td>15</td>\n      <td>50-99</td>\n      <td>Pvt Ltd</td>\n      <td>&gt;4</td>\n      <td>47</td>\n      <td>0.0</td>\n    </tr>\n    <tr>\n      <th>2</th>\n      <td>11561</td>\n      <td>city_21</td>\n      <td>0.624</td>\n      <td>NaN</td>\n      <td>No relevent experience</td>\n      <td>Full time course</td>\n      <td>Graduate</td>\n      <td>STEM</td>\n      <td>5</td>\n      <td>NaN</td>\n      <td>NaN</td>\n      <td>never</td>\n      <td>83</td>\n      <td>0.0</td>\n    </tr>\n    <tr>\n      <th>3</th>\n      <td>33241</td>\n      <td>city_115</td>\n      <td>0.789</td>\n      <td>NaN</td>\n      <td>No relevent experience</td>\n      <td>NaN</td>\n      <td>Graduate</td>\n      <td>Business Degree</td>\n      <td>&lt;1</td>\n      <td>NaN</td>\n      <td>Pvt Ltd</td>\n      <td>never</td>\n      <td>52</td>\n      <td>1.0</td>\n    </tr>\n    <tr>\n      <th>4</th>\n      <td>666</td>\n      <td>city_162</td>\n      <td>0.767</td>\n      <td>Male</td>\n      <td>Has relevent experience</td>\n      <td>no_enrollment</td>\n      <td>Masters</td>\n      <td>STEM</td>\n      <td>&gt;20</td>\n      <td>50-99</td>\n      <td>Funded Startup</td>\n      <td>4</td>\n      <td>8</td>\n      <td>0.0</td>\n    </tr>\n  </tbody>\n</table>\n</div>"
     },
     "metadata": {},
     "execution_count": 112
    }
   ],
   "source": [
    "## Load training data and testing dataset\n",
    "#\n",
    "dataset_train = pd.read_csv('aug_train.csv')\n",
    "column_name = list(dataset_train.columns)\n",
    "\n",
    "print(\"Training size : {}\".format(len(dataset_train)))\n",
    "dataset_test = pd.read_csv('aug_test.csv')\n",
    "dataset_train = dataset_train.append(dataset_test, ignore_index = True)\n",
    "\n",
    "# See 5 rows\n",
    "dataset_train.head()"
   ]
  },
  {
   "cell_type": "code",
   "execution_count": 113,
   "metadata": {},
   "outputs": [
    {
     "output_type": "execute_result",
     "data": {
      "text/plain": [
       "enrollee_id                  0\n",
       "city                         0\n",
       "city_development_index       0\n",
       "gender                    5016\n",
       "relevent_experience          0\n",
       "enrolled_university        417\n",
       "education_level            512\n",
       "major_discipline          3125\n",
       "experience                  70\n",
       "company_size              6560\n",
       "company_type              6774\n",
       "last_new_job               463\n",
       "training_hours               0\n",
       "target                    2129\n",
       "dtype: int64"
      ]
     },
     "metadata": {},
     "execution_count": 113
    }
   ],
   "source": [
    "## Check missing value of each column\n",
    "# count\n",
    "dataset_train.isna().sum()"
   ]
  },
  {
   "cell_type": "code",
   "execution_count": 114,
   "metadata": {},
   "outputs": [
    {
     "output_type": "execute_result",
     "data": {
      "text/plain": [
       "              column_names  percentage\n",
       "0              enrollee_id    0.000000\n",
       "1                     city    0.000000\n",
       "2   city_development_index    0.000000\n",
       "3                   gender   23.563677\n",
       "4      relevent_experience    0.000000\n",
       "5      enrolled_university    1.958942\n",
       "6          education_level    2.405224\n",
       "7         major_discipline   14.680321\n",
       "8               experience    0.328839\n",
       "9             company_size   30.816931\n",
       "10            company_type   31.822239\n",
       "11            last_new_job    2.175036\n",
       "12          training_hours    0.000000\n",
       "13                  target   10.001409"
      ],
      "text/html": "<div>\n<style scoped>\n    .dataframe tbody tr th:only-of-type {\n        vertical-align: middle;\n    }\n\n    .dataframe tbody tr th {\n        vertical-align: top;\n    }\n\n    .dataframe thead th {\n        text-align: right;\n    }\n</style>\n<table border=\"1\" class=\"dataframe\">\n  <thead>\n    <tr style=\"text-align: right;\">\n      <th></th>\n      <th>column_names</th>\n      <th>percentage</th>\n    </tr>\n  </thead>\n  <tbody>\n    <tr>\n      <th>0</th>\n      <td>enrollee_id</td>\n      <td>0.000000</td>\n    </tr>\n    <tr>\n      <th>1</th>\n      <td>city</td>\n      <td>0.000000</td>\n    </tr>\n    <tr>\n      <th>2</th>\n      <td>city_development_index</td>\n      <td>0.000000</td>\n    </tr>\n    <tr>\n      <th>3</th>\n      <td>gender</td>\n      <td>23.563677</td>\n    </tr>\n    <tr>\n      <th>4</th>\n      <td>relevent_experience</td>\n      <td>0.000000</td>\n    </tr>\n    <tr>\n      <th>5</th>\n      <td>enrolled_university</td>\n      <td>1.958942</td>\n    </tr>\n    <tr>\n      <th>6</th>\n      <td>education_level</td>\n      <td>2.405224</td>\n    </tr>\n    <tr>\n      <th>7</th>\n      <td>major_discipline</td>\n      <td>14.680321</td>\n    </tr>\n    <tr>\n      <th>8</th>\n      <td>experience</td>\n      <td>0.328839</td>\n    </tr>\n    <tr>\n      <th>9</th>\n      <td>company_size</td>\n      <td>30.816931</td>\n    </tr>\n    <tr>\n      <th>10</th>\n      <td>company_type</td>\n      <td>31.822239</td>\n    </tr>\n    <tr>\n      <th>11</th>\n      <td>last_new_job</td>\n      <td>2.175036</td>\n    </tr>\n    <tr>\n      <th>12</th>\n      <td>training_hours</td>\n      <td>0.000000</td>\n    </tr>\n    <tr>\n      <th>13</th>\n      <td>target</td>\n      <td>10.001409</td>\n    </tr>\n  </tbody>\n</table>\n</div>"
     },
     "metadata": {},
     "execution_count": 114
    }
   ],
   "source": [
    "# percentage\n",
    "missing_percentage = [(clm_name, dataset_train[clm_name].isna().mean() * 100) for clm_name in dataset_train]\n",
    "missing_percentage = pd.DataFrame(missing_percentage, columns = ['column_names', 'percentage'])\n",
    "missing_percentage"
   ]
  },
  {
   "cell_type": "code",
   "execution_count": 115,
   "metadata": {},
   "outputs": [],
   "source": [
    "## Handle missing values\n",
    "# Using frequency distribution of each category\n",
    "# and select the top category which is mode.\n",
    "dataset_train = dataset_train.fillna(dataset_train['gender'].value_counts().index[0])\n"
   ]
  },
  {
   "cell_type": "code",
   "execution_count": 116,
   "metadata": {},
   "outputs": [
    {
     "output_type": "execute_result",
     "data": {
      "text/plain": [
       "enrollee_id               0\n",
       "city                      0\n",
       "city_development_index    0\n",
       "gender                    0\n",
       "relevent_experience       0\n",
       "enrolled_university       0\n",
       "education_level           0\n",
       "major_discipline          0\n",
       "experience                0\n",
       "company_size              0\n",
       "company_type              0\n",
       "last_new_job              0\n",
       "training_hours            0\n",
       "target                    0\n",
       "dtype: int64"
      ]
     },
     "metadata": {},
     "execution_count": 116
    }
   ],
   "source": [
    "# Check results\n",
    "dataset_train.isna().sum()"
   ]
  },
  {
   "cell_type": "code",
   "execution_count": 117,
   "metadata": {},
   "outputs": [
    {
     "output_type": "execute_result",
     "data": {
      "text/plain": [
       "   enrollee_id      city  city_development_index gender  \\\n",
       "0         8949  city_103                   0.920   Male   \n",
       "1        29725   city_40                   0.776   Male   \n",
       "2        11561   city_21                   0.624   Male   \n",
       "3        33241  city_115                   0.789   Male   \n",
       "4          666  city_162                   0.767   Male   \n",
       "\n",
       "       relevent_experience enrolled_university education_level  \\\n",
       "0  Has relevent experience       no_enrollment        Graduate   \n",
       "1   No relevent experience       no_enrollment        Graduate   \n",
       "2   No relevent experience    Full time course        Graduate   \n",
       "3   No relevent experience                Male        Graduate   \n",
       "4  Has relevent experience       no_enrollment         Masters   \n",
       "\n",
       "  major_discipline experience company_size    company_type last_new_job  \\\n",
       "0             STEM        >20         Male            Male            1   \n",
       "1             STEM         15        50-99         Pvt Ltd           >4   \n",
       "2             STEM          5         Male            Male        never   \n",
       "3  Business Degree         <1         Male         Pvt Ltd        never   \n",
       "4             STEM        >20        50-99  Funded Startup            4   \n",
       "\n",
       "   training_hours target  \n",
       "0              36      1  \n",
       "1              47      0  \n",
       "2              83      0  \n",
       "3              52      1  \n",
       "4               8      0  "
      ],
      "text/html": "<div>\n<style scoped>\n    .dataframe tbody tr th:only-of-type {\n        vertical-align: middle;\n    }\n\n    .dataframe tbody tr th {\n        vertical-align: top;\n    }\n\n    .dataframe thead th {\n        text-align: right;\n    }\n</style>\n<table border=\"1\" class=\"dataframe\">\n  <thead>\n    <tr style=\"text-align: right;\">\n      <th></th>\n      <th>enrollee_id</th>\n      <th>city</th>\n      <th>city_development_index</th>\n      <th>gender</th>\n      <th>relevent_experience</th>\n      <th>enrolled_university</th>\n      <th>education_level</th>\n      <th>major_discipline</th>\n      <th>experience</th>\n      <th>company_size</th>\n      <th>company_type</th>\n      <th>last_new_job</th>\n      <th>training_hours</th>\n      <th>target</th>\n    </tr>\n  </thead>\n  <tbody>\n    <tr>\n      <th>0</th>\n      <td>8949</td>\n      <td>city_103</td>\n      <td>0.920</td>\n      <td>Male</td>\n      <td>Has relevent experience</td>\n      <td>no_enrollment</td>\n      <td>Graduate</td>\n      <td>STEM</td>\n      <td>&gt;20</td>\n      <td>Male</td>\n      <td>Male</td>\n      <td>1</td>\n      <td>36</td>\n      <td>1</td>\n    </tr>\n    <tr>\n      <th>1</th>\n      <td>29725</td>\n      <td>city_40</td>\n      <td>0.776</td>\n      <td>Male</td>\n      <td>No relevent experience</td>\n      <td>no_enrollment</td>\n      <td>Graduate</td>\n      <td>STEM</td>\n      <td>15</td>\n      <td>50-99</td>\n      <td>Pvt Ltd</td>\n      <td>&gt;4</td>\n      <td>47</td>\n      <td>0</td>\n    </tr>\n    <tr>\n      <th>2</th>\n      <td>11561</td>\n      <td>city_21</td>\n      <td>0.624</td>\n      <td>Male</td>\n      <td>No relevent experience</td>\n      <td>Full time course</td>\n      <td>Graduate</td>\n      <td>STEM</td>\n      <td>5</td>\n      <td>Male</td>\n      <td>Male</td>\n      <td>never</td>\n      <td>83</td>\n      <td>0</td>\n    </tr>\n    <tr>\n      <th>3</th>\n      <td>33241</td>\n      <td>city_115</td>\n      <td>0.789</td>\n      <td>Male</td>\n      <td>No relevent experience</td>\n      <td>Male</td>\n      <td>Graduate</td>\n      <td>Business Degree</td>\n      <td>&lt;1</td>\n      <td>Male</td>\n      <td>Pvt Ltd</td>\n      <td>never</td>\n      <td>52</td>\n      <td>1</td>\n    </tr>\n    <tr>\n      <th>4</th>\n      <td>666</td>\n      <td>city_162</td>\n      <td>0.767</td>\n      <td>Male</td>\n      <td>Has relevent experience</td>\n      <td>no_enrollment</td>\n      <td>Masters</td>\n      <td>STEM</td>\n      <td>&gt;20</td>\n      <td>50-99</td>\n      <td>Funded Startup</td>\n      <td>4</td>\n      <td>8</td>\n      <td>0</td>\n    </tr>\n  </tbody>\n</table>\n</div>"
     },
     "metadata": {},
     "execution_count": 117
    }
   ],
   "source": [
    "dataset_train.head()"
   ]
  },
  {
   "cell_type": "code",
   "execution_count": 118,
   "metadata": {},
   "outputs": [
    {
     "output_type": "stream",
     "name": "stdout",
     "text": [
      "Training size : 19158\n"
     ]
    }
   ],
   "source": [
    "# Load training data\n",
    "#\n",
    "dataset_train = pd.read_csv('aug_train.csv')\n",
    "column_name = list(dataset_train.columns)\n",
    "\n",
    "print(\"Training size : {}\".format(len(dataset_train)))\n",
    "dataset_test = pd.read_csv('aug_test.csv')\n",
    "dataset_train = dataset_train.append(dataset_test, ignore_index = True)"
   ]
  },
  {
   "cell_type": "code",
   "execution_count": 119,
   "metadata": {},
   "outputs": [
    {
     "output_type": "execute_result",
     "data": {
      "text/plain": [
       "enrollee_id               0\n",
       "city                      0\n",
       "city_development_index    0\n",
       "gender                    0\n",
       "relevent_experience       0\n",
       "enrolled_university       0\n",
       "education_level           0\n",
       "major_discipline          0\n",
       "experience                0\n",
       "company_size              0\n",
       "company_type              0\n",
       "last_new_job              0\n",
       "training_hours            0\n",
       "target                    0\n",
       "dtype: int64"
      ]
     },
     "metadata": {},
     "execution_count": 119
    }
   ],
   "source": [
    "# Using SimpleImputer\n",
    "# After using simple imputer the column names \n",
    "# change into numeric index\n",
    "from sklearn.impute import SimpleImputer\n",
    "imputer = SimpleImputer(missing_values=np.nan,strategy=\"most_frequent\")\n",
    "dataset_train = imputer.fit_transform(dataset_train)\n",
    "\n",
    "dataset_train = pd.DataFrame(dataset_train)\n",
    "dataset_train.columns = column_name\n",
    "dataset_train.isna().sum()"
   ]
  },
  {
   "cell_type": "code",
   "execution_count": 120,
   "metadata": {},
   "outputs": [
    {
     "output_type": "execute_result",
     "data": {
      "text/plain": [
       "enrollee_id               object\n",
       "city                      object\n",
       "city_development_index    object\n",
       "gender                    object\n",
       "relevent_experience       object\n",
       "enrolled_university       object\n",
       "education_level           object\n",
       "major_discipline          object\n",
       "experience                object\n",
       "company_size              object\n",
       "company_type              object\n",
       "last_new_job              object\n",
       "training_hours            object\n",
       "target                    object\n",
       "dtype: object"
      ]
     },
     "metadata": {},
     "execution_count": 120
    }
   ],
   "source": [
    "## Check data type of each column\n",
    "#\n",
    "dataset_train.dtypes"
   ]
  },
  {
   "cell_type": "code",
   "execution_count": 121,
   "metadata": {},
   "outputs": [
    {
     "output_type": "execute_result",
     "data": {
      "text/plain": [
       "enrollee_id                  int32\n",
       "city                      category\n",
       "city_development_index       int32\n",
       "gender                    category\n",
       "relevent_experience       category\n",
       "enrolled_university       category\n",
       "education_level           category\n",
       "major_discipline          category\n",
       "experience                category\n",
       "company_size              category\n",
       "company_type              category\n",
       "last_new_job              category\n",
       "training_hours             float64\n",
       "target                       int32\n",
       "dtype: object"
      ]
     },
     "metadata": {},
     "execution_count": 121
    }
   ],
   "source": [
    "## Change data type of column into respective\n",
    "#\n",
    "dataset_train.enrollee_id = dataset_train.enrollee_id.astype('int')\n",
    "\n",
    "dataset_train.city_development_index = dataset_train.city_development_index.astype('int')\n",
    "\n",
    "dataset_train.training_hours = dataset_train.training_hours.astype('float')\n",
    "\n",
    "dataset_train.target = dataset_train.target.astype('int32')\n",
    "\n",
    "dataset_train.city = dataset_train.city.astype('category')\n",
    "\n",
    "# using dictionary to convert specific columns \n",
    "convert_dict = {'city': 'category',\n",
    "                'gender': 'category',\n",
    "                'relevent_experience':'category',\n",
    "                'enrolled_university':'category',\n",
    "                'education_level':'category',\n",
    "                'major_discipline':'category',\n",
    "                'experience':'category',\n",
    "                'company_size':'category',\n",
    "                'company_type':'category',\n",
    "                'last_new_job': 'category'\n",
    "               } \n",
    "  \n",
    "dataset_train = dataset_train.astype(convert_dict) \n",
    "dataset_train.dtypes\n"
   ]
  },
  {
   "cell_type": "code",
   "execution_count": 122,
   "metadata": {},
   "outputs": [
    {
     "output_type": "execute_result",
     "data": {
      "text/plain": [
       "   enrollee_id  city  city_development_index  gender  relevent_experience  \\\n",
       "0         8949     5                       0       1                    0   \n",
       "1        29725    77                       0       1                    1   \n",
       "2        11561    64                       0       1                    1   \n",
       "3        33241    14                       0       1                    1   \n",
       "4          666    50                       0       1                    0   \n",
       "\n",
       "   enrolled_university  education_level  major_discipline  experience  \\\n",
       "0                    2                0                 5          21   \n",
       "1                    2                0                 5           6   \n",
       "2                    0                0                 5          15   \n",
       "3                    2                0                 1          20   \n",
       "4                    2                2                 5          21   \n",
       "\n",
       "   company_size  company_type  last_new_job  training_hours  target  \n",
       "0             4             5             0            36.0       1  \n",
       "1             4             5             4            47.0       0  \n",
       "2             4             5             5            83.0       0  \n",
       "3             4             5             5            52.0       1  \n",
       "4             4             1             3             8.0       0  "
      ],
      "text/html": "<div>\n<style scoped>\n    .dataframe tbody tr th:only-of-type {\n        vertical-align: middle;\n    }\n\n    .dataframe tbody tr th {\n        vertical-align: top;\n    }\n\n    .dataframe thead th {\n        text-align: right;\n    }\n</style>\n<table border=\"1\" class=\"dataframe\">\n  <thead>\n    <tr style=\"text-align: right;\">\n      <th></th>\n      <th>enrollee_id</th>\n      <th>city</th>\n      <th>city_development_index</th>\n      <th>gender</th>\n      <th>relevent_experience</th>\n      <th>enrolled_university</th>\n      <th>education_level</th>\n      <th>major_discipline</th>\n      <th>experience</th>\n      <th>company_size</th>\n      <th>company_type</th>\n      <th>last_new_job</th>\n      <th>training_hours</th>\n      <th>target</th>\n    </tr>\n  </thead>\n  <tbody>\n    <tr>\n      <th>0</th>\n      <td>8949</td>\n      <td>5</td>\n      <td>0</td>\n      <td>1</td>\n      <td>0</td>\n      <td>2</td>\n      <td>0</td>\n      <td>5</td>\n      <td>21</td>\n      <td>4</td>\n      <td>5</td>\n      <td>0</td>\n      <td>36.0</td>\n      <td>1</td>\n    </tr>\n    <tr>\n      <th>1</th>\n      <td>29725</td>\n      <td>77</td>\n      <td>0</td>\n      <td>1</td>\n      <td>1</td>\n      <td>2</td>\n      <td>0</td>\n      <td>5</td>\n      <td>6</td>\n      <td>4</td>\n      <td>5</td>\n      <td>4</td>\n      <td>47.0</td>\n      <td>0</td>\n    </tr>\n    <tr>\n      <th>2</th>\n      <td>11561</td>\n      <td>64</td>\n      <td>0</td>\n      <td>1</td>\n      <td>1</td>\n      <td>0</td>\n      <td>0</td>\n      <td>5</td>\n      <td>15</td>\n      <td>4</td>\n      <td>5</td>\n      <td>5</td>\n      <td>83.0</td>\n      <td>0</td>\n    </tr>\n    <tr>\n      <th>3</th>\n      <td>33241</td>\n      <td>14</td>\n      <td>0</td>\n      <td>1</td>\n      <td>1</td>\n      <td>2</td>\n      <td>0</td>\n      <td>1</td>\n      <td>20</td>\n      <td>4</td>\n      <td>5</td>\n      <td>5</td>\n      <td>52.0</td>\n      <td>1</td>\n    </tr>\n    <tr>\n      <th>4</th>\n      <td>666</td>\n      <td>50</td>\n      <td>0</td>\n      <td>1</td>\n      <td>0</td>\n      <td>2</td>\n      <td>2</td>\n      <td>5</td>\n      <td>21</td>\n      <td>4</td>\n      <td>1</td>\n      <td>3</td>\n      <td>8.0</td>\n      <td>0</td>\n    </tr>\n  </tbody>\n</table>\n</div>"
     },
     "metadata": {},
     "execution_count": 122
    }
   ],
   "source": [
    "## Handle categorical datatype columns\n",
    "# Using LabelEncoder for multiple columns\n",
    "from sklearn.preprocessing import LabelEncoder\n",
    "\n",
    "encoder = LabelEncoder()\n",
    "\n",
    "cl_names = ['city','gender','relevent_experience','enrolled_university',\n",
    " 'education_level',\n",
    " 'major_discipline',\n",
    " 'experience',\n",
    " 'company_size',\n",
    " 'company_type',\n",
    " 'last_new_job']\n",
    "\n",
    "dataset_train[cl_names] = dataset_train[cl_names].apply(encoder.fit_transform)\n",
    "dataset_train.head()\n"
   ]
  },
  {
   "cell_type": "code",
   "execution_count": 123,
   "metadata": {},
   "outputs": [
    {
     "output_type": "execute_result",
     "data": {
      "text/plain": [
       "       enrollee_id  city  city_development_index  gender  relevent_experience  \\\n",
       "19158        32403    78                       0       1                    0   \n",
       "19159         9858     5                       0       0                    0   \n",
       "19160        31806    64                       0       1                    1   \n",
       "19161        27385    26                       0       1                    0   \n",
       "19162        27724     5                       0       1                    0   \n",
       "\n",
       "       enrolled_university  education_level  major_discipline  experience  \\\n",
       "19158                    0                0                 5          19   \n",
       "19159                    2                0                 5          15   \n",
       "19160                    2                1                 5          20   \n",
       "19161                    2                2                 5           2   \n",
       "19162                    2                0                 5          21   \n",
       "\n",
       "       company_size  company_type  last_new_job  training_hours  target  \n",
       "19158             7             5             0            21.0       0  \n",
       "19159             4             5             0            98.0       0  \n",
       "19160             4             5             5            15.0       0  \n",
       "19161             0             5             0            39.0       0  \n",
       "19162             3             5             4            72.0       0  "
      ],
      "text/html": "<div>\n<style scoped>\n    .dataframe tbody tr th:only-of-type {\n        vertical-align: middle;\n    }\n\n    .dataframe tbody tr th {\n        vertical-align: top;\n    }\n\n    .dataframe thead th {\n        text-align: right;\n    }\n</style>\n<table border=\"1\" class=\"dataframe\">\n  <thead>\n    <tr style=\"text-align: right;\">\n      <th></th>\n      <th>enrollee_id</th>\n      <th>city</th>\n      <th>city_development_index</th>\n      <th>gender</th>\n      <th>relevent_experience</th>\n      <th>enrolled_university</th>\n      <th>education_level</th>\n      <th>major_discipline</th>\n      <th>experience</th>\n      <th>company_size</th>\n      <th>company_type</th>\n      <th>last_new_job</th>\n      <th>training_hours</th>\n      <th>target</th>\n    </tr>\n  </thead>\n  <tbody>\n    <tr>\n      <th>19158</th>\n      <td>32403</td>\n      <td>78</td>\n      <td>0</td>\n      <td>1</td>\n      <td>0</td>\n      <td>0</td>\n      <td>0</td>\n      <td>5</td>\n      <td>19</td>\n      <td>7</td>\n      <td>5</td>\n      <td>0</td>\n      <td>21.0</td>\n      <td>0</td>\n    </tr>\n    <tr>\n      <th>19159</th>\n      <td>9858</td>\n      <td>5</td>\n      <td>0</td>\n      <td>0</td>\n      <td>0</td>\n      <td>2</td>\n      <td>0</td>\n      <td>5</td>\n      <td>15</td>\n      <td>4</td>\n      <td>5</td>\n      <td>0</td>\n      <td>98.0</td>\n      <td>0</td>\n    </tr>\n    <tr>\n      <th>19160</th>\n      <td>31806</td>\n      <td>64</td>\n      <td>0</td>\n      <td>1</td>\n      <td>1</td>\n      <td>2</td>\n      <td>1</td>\n      <td>5</td>\n      <td>20</td>\n      <td>4</td>\n      <td>5</td>\n      <td>5</td>\n      <td>15.0</td>\n      <td>0</td>\n    </tr>\n    <tr>\n      <th>19161</th>\n      <td>27385</td>\n      <td>26</td>\n      <td>0</td>\n      <td>1</td>\n      <td>0</td>\n      <td>2</td>\n      <td>2</td>\n      <td>5</td>\n      <td>2</td>\n      <td>0</td>\n      <td>5</td>\n      <td>0</td>\n      <td>39.0</td>\n      <td>0</td>\n    </tr>\n    <tr>\n      <th>19162</th>\n      <td>27724</td>\n      <td>5</td>\n      <td>0</td>\n      <td>1</td>\n      <td>0</td>\n      <td>2</td>\n      <td>0</td>\n      <td>5</td>\n      <td>21</td>\n      <td>3</td>\n      <td>5</td>\n      <td>4</td>\n      <td>72.0</td>\n      <td>0</td>\n    </tr>\n  </tbody>\n</table>\n</div>"
     },
     "metadata": {},
     "execution_count": 123
    }
   ],
   "source": [
    "## Back to test data\n",
    "#\n",
    "dataset_test =dataset_train[19158:]\n",
    "dataset_test.head()\n"
   ]
  },
  {
   "cell_type": "code",
   "execution_count": 126,
   "metadata": {},
   "outputs": [
    {
     "output_type": "execute_result",
     "data": {
      "text/plain": [
       "enrollee_id               0\n",
       "city                      0\n",
       "city_development_index    0\n",
       "gender                    0\n",
       "relevent_experience       0\n",
       "enrolled_university       0\n",
       "education_level           0\n",
       "major_discipline          0\n",
       "experience                0\n",
       "company_size              0\n",
       "company_type              0\n",
       "last_new_job              0\n",
       "training_hours            0\n",
       "target                    0\n",
       "dtype: int64"
      ]
     },
     "metadata": {},
     "execution_count": 126
    }
   ],
   "source": [
    "## Check missing value of each column\n",
    "# count\n",
    "dataset_test.isna().sum()"
   ]
  },
  {
   "cell_type": "code",
   "execution_count": 130,
   "metadata": {
    "tags": [
     "outputPrepend"
    ]
   },
   "outputs": [
    {
     "output_type": "stream",
     "name": "stdout",
     "text": [
      "earn: 0.3529082\ttotal: 4.02s\tremaining: 2.51s\n",
      "615:\tlearn: 0.3528920\ttotal: 4.02s\tremaining: 2.51s\n",
      "616:\tlearn: 0.3528617\ttotal: 4.03s\tremaining: 2.5s\n",
      "617:\tlearn: 0.3528376\ttotal: 4.04s\tremaining: 2.5s\n",
      "618:\tlearn: 0.3527931\ttotal: 4.04s\tremaining: 2.49s\n",
      "619:\tlearn: 0.3527472\ttotal: 4.05s\tremaining: 2.48s\n",
      "620:\tlearn: 0.3526988\ttotal: 4.06s\tremaining: 2.48s\n",
      "621:\tlearn: 0.3526660\ttotal: 4.07s\tremaining: 2.47s\n",
      "622:\tlearn: 0.3526299\ttotal: 4.07s\tremaining: 2.46s\n",
      "623:\tlearn: 0.3525868\ttotal: 4.08s\tremaining: 2.46s\n",
      "624:\tlearn: 0.3525445\ttotal: 4.08s\tremaining: 2.45s\n",
      "625:\tlearn: 0.3525166\ttotal: 4.09s\tremaining: 2.44s\n",
      "626:\tlearn: 0.3524822\ttotal: 4.09s\tremaining: 2.44s\n",
      "627:\tlearn: 0.3524590\ttotal: 4.1s\tremaining: 2.43s\n",
      "628:\tlearn: 0.3524117\ttotal: 4.11s\tremaining: 2.42s\n",
      "629:\tlearn: 0.3523848\ttotal: 4.11s\tremaining: 2.42s\n",
      "630:\tlearn: 0.3523438\ttotal: 4.12s\tremaining: 2.41s\n",
      "631:\tlearn: 0.3523082\ttotal: 4.12s\tremaining: 2.4s\n",
      "632:\tlearn: 0.3522934\ttotal: 4.13s\tremaining: 2.39s\n",
      "633:\tlearn: 0.3522440\ttotal: 4.14s\tremaining: 2.39s\n",
      "634:\tlearn: 0.3522122\ttotal: 4.14s\tremaining: 2.38s\n",
      "635:\tlearn: 0.3521822\ttotal: 4.15s\tremaining: 2.37s\n",
      "636:\tlearn: 0.3521330\ttotal: 4.15s\tremaining: 2.37s\n",
      "637:\tlearn: 0.3520664\ttotal: 4.16s\tremaining: 2.36s\n",
      "638:\tlearn: 0.3520231\ttotal: 4.17s\tremaining: 2.35s\n",
      "639:\tlearn: 0.3519974\ttotal: 4.17s\tremaining: 2.35s\n",
      "640:\tlearn: 0.3519626\ttotal: 4.18s\tremaining: 2.34s\n",
      "641:\tlearn: 0.3519186\ttotal: 4.19s\tremaining: 2.34s\n",
      "642:\tlearn: 0.3518787\ttotal: 4.2s\tremaining: 2.33s\n",
      "643:\tlearn: 0.3518407\ttotal: 4.2s\tremaining: 2.32s\n",
      "644:\tlearn: 0.3517863\ttotal: 4.21s\tremaining: 2.32s\n",
      "645:\tlearn: 0.3517464\ttotal: 4.22s\tremaining: 2.31s\n",
      "646:\tlearn: 0.3517170\ttotal: 4.22s\tremaining: 2.31s\n",
      "647:\tlearn: 0.3516821\ttotal: 4.23s\tremaining: 2.3s\n",
      "648:\tlearn: 0.3516634\ttotal: 4.24s\tremaining: 2.29s\n",
      "649:\tlearn: 0.3516328\ttotal: 4.24s\tremaining: 2.28s\n",
      "650:\tlearn: 0.3515845\ttotal: 4.25s\tremaining: 2.28s\n",
      "651:\tlearn: 0.3515564\ttotal: 4.25s\tremaining: 2.27s\n",
      "652:\tlearn: 0.3515347\ttotal: 4.26s\tremaining: 2.26s\n",
      "653:\tlearn: 0.3515049\ttotal: 4.27s\tremaining: 2.26s\n",
      "654:\tlearn: 0.3514855\ttotal: 4.27s\tremaining: 2.25s\n",
      "655:\tlearn: 0.3514537\ttotal: 4.28s\tremaining: 2.24s\n",
      "656:\tlearn: 0.3514287\ttotal: 4.29s\tremaining: 2.24s\n",
      "657:\tlearn: 0.3514008\ttotal: 4.29s\tremaining: 2.23s\n",
      "658:\tlearn: 0.3513761\ttotal: 4.3s\tremaining: 2.23s\n",
      "659:\tlearn: 0.3513465\ttotal: 4.31s\tremaining: 2.22s\n",
      "660:\tlearn: 0.3513102\ttotal: 4.31s\tremaining: 2.21s\n",
      "661:\tlearn: 0.3512873\ttotal: 4.32s\tremaining: 2.21s\n",
      "662:\tlearn: 0.3512596\ttotal: 4.33s\tremaining: 2.2s\n",
      "663:\tlearn: 0.3512271\ttotal: 4.33s\tremaining: 2.19s\n",
      "664:\tlearn: 0.3511863\ttotal: 4.34s\tremaining: 2.19s\n",
      "665:\tlearn: 0.3511452\ttotal: 4.35s\tremaining: 2.18s\n",
      "666:\tlearn: 0.3511026\ttotal: 4.35s\tremaining: 2.17s\n",
      "667:\tlearn: 0.3510741\ttotal: 4.36s\tremaining: 2.17s\n",
      "668:\tlearn: 0.3510244\ttotal: 4.37s\tremaining: 2.16s\n",
      "669:\tlearn: 0.3509970\ttotal: 4.37s\tremaining: 2.15s\n",
      "670:\tlearn: 0.3509731\ttotal: 4.38s\tremaining: 2.15s\n",
      "671:\tlearn: 0.3509402\ttotal: 4.38s\tremaining: 2.14s\n",
      "672:\tlearn: 0.3509126\ttotal: 4.39s\tremaining: 2.13s\n",
      "673:\tlearn: 0.3508567\ttotal: 4.4s\tremaining: 2.13s\n",
      "674:\tlearn: 0.3508233\ttotal: 4.4s\tremaining: 2.12s\n",
      "675:\tlearn: 0.3507922\ttotal: 4.41s\tremaining: 2.11s\n",
      "676:\tlearn: 0.3507602\ttotal: 4.42s\tremaining: 2.11s\n",
      "677:\tlearn: 0.3507151\ttotal: 4.42s\tremaining: 2.1s\n",
      "678:\tlearn: 0.3506558\ttotal: 4.43s\tremaining: 2.09s\n",
      "679:\tlearn: 0.3506348\ttotal: 4.43s\tremaining: 2.09s\n",
      "680:\tlearn: 0.3506002\ttotal: 4.44s\tremaining: 2.08s\n",
      "681:\tlearn: 0.3505663\ttotal: 4.45s\tremaining: 2.07s\n",
      "682:\tlearn: 0.3505170\ttotal: 4.45s\tremaining: 2.07s\n",
      "683:\tlearn: 0.3504926\ttotal: 4.46s\tremaining: 2.06s\n",
      "684:\tlearn: 0.3504627\ttotal: 4.46s\tremaining: 2.05s\n",
      "685:\tlearn: 0.3504368\ttotal: 4.47s\tremaining: 2.05s\n",
      "686:\tlearn: 0.3504060\ttotal: 4.47s\tremaining: 2.04s\n",
      "687:\tlearn: 0.3503661\ttotal: 4.48s\tremaining: 2.03s\n",
      "688:\tlearn: 0.3503295\ttotal: 4.49s\tremaining: 2.02s\n",
      "689:\tlearn: 0.3502876\ttotal: 4.49s\tremaining: 2.02s\n",
      "690:\tlearn: 0.3502526\ttotal: 4.5s\tremaining: 2.01s\n",
      "691:\tlearn: 0.3502228\ttotal: 4.5s\tremaining: 2s\n",
      "692:\tlearn: 0.3501833\ttotal: 4.51s\tremaining: 2s\n",
      "693:\tlearn: 0.3501499\ttotal: 4.51s\tremaining: 1.99s\n",
      "694:\tlearn: 0.3501143\ttotal: 4.52s\tremaining: 1.98s\n",
      "695:\tlearn: 0.3500865\ttotal: 4.53s\tremaining: 1.98s\n",
      "696:\tlearn: 0.3500553\ttotal: 4.53s\tremaining: 1.97s\n",
      "697:\tlearn: 0.3500116\ttotal: 4.54s\tremaining: 1.96s\n",
      "698:\tlearn: 0.3499917\ttotal: 4.54s\tremaining: 1.96s\n",
      "699:\tlearn: 0.3499322\ttotal: 4.55s\tremaining: 1.95s\n",
      "700:\tlearn: 0.3499003\ttotal: 4.56s\tremaining: 1.94s\n",
      "701:\tlearn: 0.3498855\ttotal: 4.56s\tremaining: 1.94s\n",
      "702:\tlearn: 0.3498314\ttotal: 4.57s\tremaining: 1.93s\n",
      "703:\tlearn: 0.3497950\ttotal: 4.58s\tremaining: 1.93s\n",
      "704:\tlearn: 0.3497836\ttotal: 4.58s\tremaining: 1.92s\n",
      "705:\tlearn: 0.3497457\ttotal: 4.59s\tremaining: 1.91s\n",
      "706:\tlearn: 0.3497306\ttotal: 4.6s\tremaining: 1.9s\n",
      "707:\tlearn: 0.3496962\ttotal: 4.6s\tremaining: 1.9s\n",
      "708:\tlearn: 0.3496536\ttotal: 4.61s\tremaining: 1.89s\n",
      "709:\tlearn: 0.3496029\ttotal: 4.62s\tremaining: 1.89s\n",
      "710:\tlearn: 0.3495634\ttotal: 4.62s\tremaining: 1.88s\n",
      "711:\tlearn: 0.3495351\ttotal: 4.63s\tremaining: 1.87s\n",
      "712:\tlearn: 0.3495079\ttotal: 4.63s\tremaining: 1.86s\n",
      "713:\tlearn: 0.3494750\ttotal: 4.64s\tremaining: 1.86s\n",
      "714:\tlearn: 0.3494357\ttotal: 4.64s\tremaining: 1.85s\n",
      "715:\tlearn: 0.3494062\ttotal: 4.65s\tremaining: 1.84s\n",
      "716:\tlearn: 0.3493748\ttotal: 4.66s\tremaining: 1.84s\n",
      "717:\tlearn: 0.3493463\ttotal: 4.66s\tremaining: 1.83s\n",
      "718:\tlearn: 0.3493070\ttotal: 4.67s\tremaining: 1.82s\n",
      "719:\tlearn: 0.3492719\ttotal: 4.67s\tremaining: 1.82s\n",
      "720:\tlearn: 0.3492208\ttotal: 4.68s\tremaining: 1.81s\n",
      "721:\tlearn: 0.3492025\ttotal: 4.68s\tremaining: 1.8s\n",
      "722:\tlearn: 0.3491746\ttotal: 4.69s\tremaining: 1.8s\n",
      "723:\tlearn: 0.3491327\ttotal: 4.7s\tremaining: 1.79s\n",
      "724:\tlearn: 0.3490944\ttotal: 4.7s\tremaining: 1.78s\n",
      "725:\tlearn: 0.3490689\ttotal: 4.71s\tremaining: 1.78s\n",
      "726:\tlearn: 0.3490378\ttotal: 4.71s\tremaining: 1.77s\n",
      "727:\tlearn: 0.3490055\ttotal: 4.72s\tremaining: 1.76s\n",
      "728:\tlearn: 0.3489910\ttotal: 4.73s\tremaining: 1.76s\n",
      "729:\tlearn: 0.3489557\ttotal: 4.73s\tremaining: 1.75s\n",
      "730:\tlearn: 0.3489201\ttotal: 4.74s\tremaining: 1.74s\n",
      "731:\tlearn: 0.3488963\ttotal: 4.75s\tremaining: 1.74s\n",
      "732:\tlearn: 0.3488616\ttotal: 4.75s\tremaining: 1.73s\n",
      "733:\tlearn: 0.3488241\ttotal: 4.76s\tremaining: 1.72s\n",
      "734:\tlearn: 0.3487792\ttotal: 4.76s\tremaining: 1.72s\n",
      "735:\tlearn: 0.3487509\ttotal: 4.77s\tremaining: 1.71s\n",
      "736:\tlearn: 0.3487217\ttotal: 4.77s\tremaining: 1.7s\n",
      "737:\tlearn: 0.3486920\ttotal: 4.78s\tremaining: 1.7s\n",
      "738:\tlearn: 0.3486510\ttotal: 4.79s\tremaining: 1.69s\n",
      "739:\tlearn: 0.3486152\ttotal: 4.79s\tremaining: 1.68s\n",
      "740:\tlearn: 0.3485884\ttotal: 4.8s\tremaining: 1.68s\n",
      "741:\tlearn: 0.3485625\ttotal: 4.8s\tremaining: 1.67s\n",
      "742:\tlearn: 0.3485227\ttotal: 4.81s\tremaining: 1.66s\n",
      "743:\tlearn: 0.3484904\ttotal: 4.82s\tremaining: 1.66s\n",
      "744:\tlearn: 0.3484554\ttotal: 4.82s\tremaining: 1.65s\n",
      "745:\tlearn: 0.3484245\ttotal: 4.83s\tremaining: 1.64s\n",
      "746:\tlearn: 0.3484006\ttotal: 4.83s\tremaining: 1.64s\n",
      "747:\tlearn: 0.3483681\ttotal: 4.84s\tremaining: 1.63s\n",
      "748:\tlearn: 0.3483366\ttotal: 4.84s\tremaining: 1.62s\n",
      "749:\tlearn: 0.3482992\ttotal: 4.85s\tremaining: 1.62s\n",
      "750:\tlearn: 0.3482487\ttotal: 4.86s\tremaining: 1.61s\n",
      "751:\tlearn: 0.3482272\ttotal: 4.86s\tremaining: 1.6s\n",
      "752:\tlearn: 0.3482050\ttotal: 4.87s\tremaining: 1.6s\n",
      "753:\tlearn: 0.3481665\ttotal: 4.88s\tremaining: 1.59s\n",
      "754:\tlearn: 0.3481324\ttotal: 4.88s\tremaining: 1.58s\n",
      "755:\tlearn: 0.3480879\ttotal: 4.89s\tremaining: 1.58s\n",
      "756:\tlearn: 0.3480721\ttotal: 4.89s\tremaining: 1.57s\n",
      "757:\tlearn: 0.3480151\ttotal: 4.9s\tremaining: 1.56s\n",
      "758:\tlearn: 0.3479949\ttotal: 4.91s\tremaining: 1.56s\n",
      "759:\tlearn: 0.3479636\ttotal: 4.91s\tremaining: 1.55s\n",
      "760:\tlearn: 0.3479281\ttotal: 4.92s\tremaining: 1.54s\n",
      "761:\tlearn: 0.3478758\ttotal: 4.92s\tremaining: 1.54s\n",
      "762:\tlearn: 0.3478323\ttotal: 4.93s\tremaining: 1.53s\n",
      "763:\tlearn: 0.3478101\ttotal: 4.94s\tremaining: 1.52s\n",
      "764:\tlearn: 0.3477882\ttotal: 4.94s\tremaining: 1.52s\n",
      "765:\tlearn: 0.3477682\ttotal: 4.95s\tremaining: 1.51s\n",
      "766:\tlearn: 0.3477384\ttotal: 4.96s\tremaining: 1.5s\n",
      "767:\tlearn: 0.3476918\ttotal: 4.96s\tremaining: 1.5s\n",
      "768:\tlearn: 0.3476511\ttotal: 4.97s\tremaining: 1.49s\n",
      "769:\tlearn: 0.3476224\ttotal: 4.97s\tremaining: 1.49s\n",
      "770:\tlearn: 0.3475935\ttotal: 4.98s\tremaining: 1.48s\n",
      "771:\tlearn: 0.3475555\ttotal: 4.98s\tremaining: 1.47s\n",
      "772:\tlearn: 0.3475211\ttotal: 4.99s\tremaining: 1.47s\n",
      "773:\tlearn: 0.3474946\ttotal: 5s\tremaining: 1.46s\n",
      "774:\tlearn: 0.3474478\ttotal: 5s\tremaining: 1.45s\n",
      "775:\tlearn: 0.3474282\ttotal: 5.01s\tremaining: 1.45s\n",
      "776:\tlearn: 0.3473835\ttotal: 5.01s\tremaining: 1.44s\n",
      "777:\tlearn: 0.3473428\ttotal: 5.02s\tremaining: 1.43s\n",
      "778:\tlearn: 0.3473282\ttotal: 5.03s\tremaining: 1.43s\n",
      "779:\tlearn: 0.3473012\ttotal: 5.03s\tremaining: 1.42s\n",
      "780:\tlearn: 0.3472822\ttotal: 5.04s\tremaining: 1.41s\n",
      "781:\tlearn: 0.3472444\ttotal: 5.04s\tremaining: 1.41s\n",
      "782:\tlearn: 0.3472246\ttotal: 5.05s\tremaining: 1.4s\n",
      "783:\tlearn: 0.3472006\ttotal: 5.05s\tremaining: 1.39s\n",
      "784:\tlearn: 0.3471775\ttotal: 5.06s\tremaining: 1.39s\n",
      "785:\tlearn: 0.3471347\ttotal: 5.06s\tremaining: 1.38s\n",
      "786:\tlearn: 0.3471112\ttotal: 5.07s\tremaining: 1.37s\n",
      "787:\tlearn: 0.3470804\ttotal: 5.08s\tremaining: 1.37s\n",
      "788:\tlearn: 0.3470601\ttotal: 5.09s\tremaining: 1.36s\n",
      "789:\tlearn: 0.3470190\ttotal: 5.09s\tremaining: 1.35s\n",
      "790:\tlearn: 0.3469828\ttotal: 5.1s\tremaining: 1.35s\n",
      "791:\tlearn: 0.3469499\ttotal: 5.11s\tremaining: 1.34s\n",
      "792:\tlearn: 0.3469120\ttotal: 5.11s\tremaining: 1.33s\n",
      "793:\tlearn: 0.3468974\ttotal: 5.12s\tremaining: 1.33s\n",
      "794:\tlearn: 0.3468735\ttotal: 5.12s\tremaining: 1.32s\n",
      "795:\tlearn: 0.3468428\ttotal: 5.13s\tremaining: 1.31s\n",
      "796:\tlearn: 0.3468069\ttotal: 5.14s\tremaining: 1.31s\n",
      "797:\tlearn: 0.3467633\ttotal: 5.14s\tremaining: 1.3s\n",
      "798:\tlearn: 0.3467299\ttotal: 5.15s\tremaining: 1.29s\n",
      "799:\tlearn: 0.3467124\ttotal: 5.15s\tremaining: 1.29s\n",
      "800:\tlearn: 0.3466813\ttotal: 5.16s\tremaining: 1.28s\n",
      "801:\tlearn: 0.3466398\ttotal: 5.17s\tremaining: 1.27s\n",
      "802:\tlearn: 0.3466012\ttotal: 5.17s\tremaining: 1.27s\n",
      "803:\tlearn: 0.3465702\ttotal: 5.18s\tremaining: 1.26s\n",
      "804:\tlearn: 0.3465308\ttotal: 5.18s\tremaining: 1.25s\n",
      "805:\tlearn: 0.3464998\ttotal: 5.19s\tremaining: 1.25s\n",
      "806:\tlearn: 0.3464710\ttotal: 5.2s\tremaining: 1.24s\n",
      "807:\tlearn: 0.3464172\ttotal: 5.2s\tremaining: 1.24s\n",
      "808:\tlearn: 0.3463779\ttotal: 5.21s\tremaining: 1.23s\n",
      "809:\tlearn: 0.3463454\ttotal: 5.21s\tremaining: 1.22s\n",
      "810:\tlearn: 0.3463139\ttotal: 5.22s\tremaining: 1.22s\n",
      "811:\tlearn: 0.3462926\ttotal: 5.22s\tremaining: 1.21s\n",
      "812:\tlearn: 0.3462612\ttotal: 5.23s\tremaining: 1.2s\n",
      "813:\tlearn: 0.3462130\ttotal: 5.24s\tremaining: 1.2s\n",
      "814:\tlearn: 0.3461874\ttotal: 5.24s\tremaining: 1.19s\n",
      "815:\tlearn: 0.3461421\ttotal: 5.25s\tremaining: 1.18s\n",
      "816:\tlearn: 0.3460911\ttotal: 5.25s\tremaining: 1.18s\n",
      "817:\tlearn: 0.3460553\ttotal: 5.26s\tremaining: 1.17s\n",
      "818:\tlearn: 0.3460413\ttotal: 5.27s\tremaining: 1.16s\n",
      "819:\tlearn: 0.3460094\ttotal: 5.27s\tremaining: 1.16s\n",
      "820:\tlearn: 0.3459517\ttotal: 5.28s\tremaining: 1.15s\n",
      "821:\tlearn: 0.3459387\ttotal: 5.28s\tremaining: 1.14s\n",
      "822:\tlearn: 0.3459041\ttotal: 5.29s\tremaining: 1.14s\n",
      "823:\tlearn: 0.3458787\ttotal: 5.3s\tremaining: 1.13s\n",
      "824:\tlearn: 0.3458270\ttotal: 5.3s\tremaining: 1.12s\n",
      "825:\tlearn: 0.3458062\ttotal: 5.31s\tremaining: 1.12s\n",
      "826:\tlearn: 0.3457678\ttotal: 5.31s\tremaining: 1.11s\n",
      "827:\tlearn: 0.3457190\ttotal: 5.32s\tremaining: 1.1s\n",
      "828:\tlearn: 0.3456696\ttotal: 5.33s\tremaining: 1.1s\n",
      "829:\tlearn: 0.3456292\ttotal: 5.33s\tremaining: 1.09s\n",
      "830:\tlearn: 0.3455903\ttotal: 5.34s\tremaining: 1.08s\n",
      "831:\tlearn: 0.3455355\ttotal: 5.34s\tremaining: 1.08s\n",
      "832:\tlearn: 0.3455029\ttotal: 5.35s\tremaining: 1.07s\n",
      "833:\tlearn: 0.3454428\ttotal: 5.36s\tremaining: 1.07s\n",
      "834:\tlearn: 0.3454257\ttotal: 5.36s\tremaining: 1.06s\n",
      "835:\tlearn: 0.3453977\ttotal: 5.37s\tremaining: 1.05s\n",
      "836:\tlearn: 0.3453538\ttotal: 5.38s\tremaining: 1.05s\n",
      "837:\tlearn: 0.3453215\ttotal: 5.38s\tremaining: 1.04s\n",
      "838:\tlearn: 0.3452957\ttotal: 5.39s\tremaining: 1.03s\n",
      "839:\tlearn: 0.3452714\ttotal: 5.39s\tremaining: 1.03s\n",
      "840:\tlearn: 0.3452351\ttotal: 5.4s\tremaining: 1.02s\n",
      "841:\tlearn: 0.3451995\ttotal: 5.41s\tremaining: 1.01s\n",
      "842:\tlearn: 0.3451621\ttotal: 5.41s\tremaining: 1.01s\n",
      "843:\tlearn: 0.3451186\ttotal: 5.42s\tremaining: 1s\n",
      "844:\tlearn: 0.3450696\ttotal: 5.43s\tremaining: 995ms\n",
      "845:\tlearn: 0.3450418\ttotal: 5.43s\tremaining: 989ms\n",
      "846:\tlearn: 0.3450138\ttotal: 5.44s\tremaining: 982ms\n",
      "847:\tlearn: 0.3449867\ttotal: 5.45s\tremaining: 976ms\n",
      "848:\tlearn: 0.3449434\ttotal: 5.45s\tremaining: 970ms\n",
      "849:\tlearn: 0.3448816\ttotal: 5.46s\tremaining: 963ms\n",
      "850:\tlearn: 0.3448446\ttotal: 5.46s\tremaining: 957ms\n",
      "851:\tlearn: 0.3448141\ttotal: 5.47s\tremaining: 950ms\n",
      "852:\tlearn: 0.3447762\ttotal: 5.48s\tremaining: 944ms\n",
      "853:\tlearn: 0.3447282\ttotal: 5.48s\tremaining: 938ms\n",
      "854:\tlearn: 0.3447006\ttotal: 5.49s\tremaining: 931ms\n",
      "855:\tlearn: 0.3446673\ttotal: 5.5s\tremaining: 924ms\n",
      "856:\tlearn: 0.3446382\ttotal: 5.5s\tremaining: 918ms\n",
      "857:\tlearn: 0.3446214\ttotal: 5.51s\tremaining: 911ms\n",
      "858:\tlearn: 0.3445910\ttotal: 5.51s\tremaining: 905ms\n",
      "859:\tlearn: 0.3445752\ttotal: 5.52s\tremaining: 898ms\n",
      "860:\tlearn: 0.3445535\ttotal: 5.52s\tremaining: 892ms\n",
      "861:\tlearn: 0.3445060\ttotal: 5.53s\tremaining: 885ms\n",
      "862:\tlearn: 0.3444668\ttotal: 5.54s\tremaining: 879ms\n",
      "863:\tlearn: 0.3444376\ttotal: 5.54s\tremaining: 872ms\n",
      "864:\tlearn: 0.3444093\ttotal: 5.55s\tremaining: 866ms\n",
      "865:\tlearn: 0.3443751\ttotal: 5.55s\tremaining: 859ms\n",
      "866:\tlearn: 0.3443319\ttotal: 5.56s\tremaining: 853ms\n",
      "867:\tlearn: 0.3443063\ttotal: 5.57s\tremaining: 846ms\n",
      "868:\tlearn: 0.3442765\ttotal: 5.57s\tremaining: 840ms\n",
      "869:\tlearn: 0.3442339\ttotal: 5.58s\tremaining: 833ms\n",
      "870:\tlearn: 0.3441991\ttotal: 5.58s\tremaining: 827ms\n",
      "871:\tlearn: 0.3441648\ttotal: 5.59s\tremaining: 821ms\n",
      "872:\tlearn: 0.3441286\ttotal: 5.6s\tremaining: 814ms\n",
      "873:\tlearn: 0.3441046\ttotal: 5.61s\tremaining: 808ms\n",
      "874:\tlearn: 0.3440836\ttotal: 5.61s\tremaining: 802ms\n",
      "875:\tlearn: 0.3440594\ttotal: 5.62s\tremaining: 795ms\n",
      "876:\tlearn: 0.3440050\ttotal: 5.63s\tremaining: 789ms\n",
      "877:\tlearn: 0.3439736\ttotal: 5.63s\tremaining: 782ms\n",
      "878:\tlearn: 0.3439469\ttotal: 5.64s\tremaining: 776ms\n",
      "879:\tlearn: 0.3439057\ttotal: 5.64s\tremaining: 769ms\n",
      "880:\tlearn: 0.3438781\ttotal: 5.65s\tremaining: 763ms\n",
      "881:\tlearn: 0.3438490\ttotal: 5.65s\tremaining: 756ms\n",
      "882:\tlearn: 0.3438054\ttotal: 5.66s\tremaining: 750ms\n",
      "883:\tlearn: 0.3437959\ttotal: 5.67s\tremaining: 744ms\n",
      "884:\tlearn: 0.3437563\ttotal: 5.67s\tremaining: 737ms\n",
      "885:\tlearn: 0.3437216\ttotal: 5.68s\tremaining: 730ms\n",
      "886:\tlearn: 0.3436984\ttotal: 5.68s\tremaining: 724ms\n",
      "887:\tlearn: 0.3436858\ttotal: 5.69s\tremaining: 718ms\n",
      "888:\tlearn: 0.3436229\ttotal: 5.7s\tremaining: 711ms\n",
      "889:\tlearn: 0.3435962\ttotal: 5.7s\tremaining: 705ms\n",
      "890:\tlearn: 0.3435598\ttotal: 5.71s\tremaining: 698ms\n",
      "891:\tlearn: 0.3435390\ttotal: 5.71s\tremaining: 692ms\n",
      "892:\tlearn: 0.3435181\ttotal: 5.72s\tremaining: 685ms\n",
      "893:\tlearn: 0.3435084\ttotal: 5.72s\tremaining: 679ms\n",
      "894:\tlearn: 0.3434873\ttotal: 5.73s\tremaining: 672ms\n",
      "895:\tlearn: 0.3434514\ttotal: 5.74s\tremaining: 666ms\n",
      "896:\tlearn: 0.3433940\ttotal: 5.74s\tremaining: 660ms\n",
      "897:\tlearn: 0.3433681\ttotal: 5.75s\tremaining: 653ms\n",
      "898:\tlearn: 0.3433540\ttotal: 5.75s\tremaining: 647ms\n",
      "899:\tlearn: 0.3433398\ttotal: 5.76s\tremaining: 640ms\n",
      "900:\tlearn: 0.3433157\ttotal: 5.77s\tremaining: 634ms\n",
      "901:\tlearn: 0.3432952\ttotal: 5.77s\tremaining: 627ms\n",
      "902:\tlearn: 0.3432607\ttotal: 5.78s\tremaining: 621ms\n",
      "903:\tlearn: 0.3432172\ttotal: 5.79s\tremaining: 614ms\n",
      "904:\tlearn: 0.3431922\ttotal: 5.79s\tremaining: 608ms\n",
      "905:\tlearn: 0.3431665\ttotal: 5.8s\tremaining: 602ms\n",
      "906:\tlearn: 0.3431437\ttotal: 5.8s\tremaining: 595ms\n",
      "907:\tlearn: 0.3431219\ttotal: 5.81s\tremaining: 589ms\n",
      "908:\tlearn: 0.3431024\ttotal: 5.82s\tremaining: 582ms\n",
      "909:\tlearn: 0.3430683\ttotal: 5.82s\tremaining: 576ms\n",
      "910:\tlearn: 0.3430333\ttotal: 5.83s\tremaining: 570ms\n",
      "911:\tlearn: 0.3429826\ttotal: 5.84s\tremaining: 563ms\n",
      "912:\tlearn: 0.3429384\ttotal: 5.84s\tremaining: 557ms\n",
      "913:\tlearn: 0.3429228\ttotal: 5.85s\tremaining: 550ms\n",
      "914:\tlearn: 0.3428977\ttotal: 5.85s\tremaining: 544ms\n",
      "915:\tlearn: 0.3428551\ttotal: 5.86s\tremaining: 537ms\n",
      "916:\tlearn: 0.3428060\ttotal: 5.87s\tremaining: 531ms\n",
      "917:\tlearn: 0.3427887\ttotal: 5.87s\tremaining: 524ms\n",
      "918:\tlearn: 0.3427640\ttotal: 5.88s\tremaining: 518ms\n",
      "919:\tlearn: 0.3427265\ttotal: 5.88s\tremaining: 512ms\n",
      "920:\tlearn: 0.3427077\ttotal: 5.89s\tremaining: 505ms\n",
      "921:\tlearn: 0.3426817\ttotal: 5.89s\tremaining: 499ms\n",
      "922:\tlearn: 0.3426614\ttotal: 5.9s\tremaining: 492ms\n",
      "923:\tlearn: 0.3426416\ttotal: 5.91s\tremaining: 486ms\n",
      "924:\tlearn: 0.3426096\ttotal: 5.91s\tremaining: 479ms\n",
      "925:\tlearn: 0.3425713\ttotal: 5.92s\tremaining: 473ms\n",
      "926:\tlearn: 0.3425474\ttotal: 5.92s\tremaining: 466ms\n",
      "927:\tlearn: 0.3425139\ttotal: 5.93s\tremaining: 460ms\n",
      "928:\tlearn: 0.3425027\ttotal: 5.93s\tremaining: 454ms\n",
      "929:\tlearn: 0.3424571\ttotal: 5.94s\tremaining: 447ms\n",
      "930:\tlearn: 0.3424107\ttotal: 5.95s\tremaining: 441ms\n",
      "931:\tlearn: 0.3423691\ttotal: 5.95s\tremaining: 434ms\n",
      "932:\tlearn: 0.3423469\ttotal: 5.96s\tremaining: 428ms\n",
      "933:\tlearn: 0.3423031\ttotal: 5.96s\tremaining: 421ms\n",
      "934:\tlearn: 0.3422679\ttotal: 5.97s\tremaining: 415ms\n",
      "935:\tlearn: 0.3422413\ttotal: 5.98s\tremaining: 409ms\n",
      "936:\tlearn: 0.3422038\ttotal: 5.98s\tremaining: 402ms\n",
      "937:\tlearn: 0.3421769\ttotal: 5.99s\tremaining: 396ms\n",
      "938:\tlearn: 0.3421318\ttotal: 6s\tremaining: 390ms\n",
      "939:\tlearn: 0.3420977\ttotal: 6s\tremaining: 383ms\n",
      "940:\tlearn: 0.3420795\ttotal: 6.01s\tremaining: 377ms\n",
      "941:\tlearn: 0.3420440\ttotal: 6.01s\tremaining: 370ms\n",
      "942:\tlearn: 0.3420107\ttotal: 6.02s\tremaining: 364ms\n",
      "943:\tlearn: 0.3419868\ttotal: 6.02s\tremaining: 357ms\n",
      "944:\tlearn: 0.3419640\ttotal: 6.03s\tremaining: 351ms\n",
      "945:\tlearn: 0.3419261\ttotal: 6.04s\tremaining: 345ms\n",
      "946:\tlearn: 0.3419033\ttotal: 6.04s\tremaining: 338ms\n",
      "947:\tlearn: 0.3418747\ttotal: 6.05s\tremaining: 332ms\n",
      "948:\tlearn: 0.3418384\ttotal: 6.05s\tremaining: 325ms\n",
      "949:\tlearn: 0.3417912\ttotal: 6.06s\tremaining: 319ms\n",
      "950:\tlearn: 0.3417427\ttotal: 6.07s\tremaining: 313ms\n",
      "951:\tlearn: 0.3417015\ttotal: 6.08s\tremaining: 306ms\n",
      "952:\tlearn: 0.3416735\ttotal: 6.08s\tremaining: 300ms\n",
      "953:\tlearn: 0.3416404\ttotal: 6.09s\tremaining: 294ms\n",
      "954:\tlearn: 0.3415881\ttotal: 6.1s\tremaining: 287ms\n",
      "955:\tlearn: 0.3415398\ttotal: 6.1s\tremaining: 281ms\n",
      "956:\tlearn: 0.3414870\ttotal: 6.11s\tremaining: 274ms\n",
      "957:\tlearn: 0.3414625\ttotal: 6.11s\tremaining: 268ms\n",
      "958:\tlearn: 0.3414216\ttotal: 6.12s\tremaining: 262ms\n",
      "959:\tlearn: 0.3413818\ttotal: 6.13s\tremaining: 255ms\n",
      "960:\tlearn: 0.3413452\ttotal: 6.13s\tremaining: 249ms\n",
      "961:\tlearn: 0.3412870\ttotal: 6.14s\tremaining: 243ms\n",
      "962:\tlearn: 0.3412447\ttotal: 6.15s\tremaining: 236ms\n",
      "963:\tlearn: 0.3412276\ttotal: 6.15s\tremaining: 230ms\n",
      "964:\tlearn: 0.3411867\ttotal: 6.16s\tremaining: 223ms\n",
      "965:\tlearn: 0.3411547\ttotal: 6.16s\tremaining: 217ms\n",
      "966:\tlearn: 0.3411347\ttotal: 6.17s\tremaining: 211ms\n",
      "967:\tlearn: 0.3411000\ttotal: 6.18s\tremaining: 204ms\n",
      "968:\tlearn: 0.3410671\ttotal: 6.18s\tremaining: 198ms\n",
      "969:\tlearn: 0.3410235\ttotal: 6.19s\tremaining: 191ms\n",
      "970:\tlearn: 0.3409929\ttotal: 6.2s\tremaining: 185ms\n",
      "971:\tlearn: 0.3409714\ttotal: 6.2s\tremaining: 179ms\n",
      "972:\tlearn: 0.3409208\ttotal: 6.21s\tremaining: 172ms\n",
      "973:\tlearn: 0.3408954\ttotal: 6.21s\tremaining: 166ms\n",
      "974:\tlearn: 0.3408730\ttotal: 6.22s\tremaining: 159ms\n",
      "975:\tlearn: 0.3408411\ttotal: 6.22s\tremaining: 153ms\n",
      "976:\tlearn: 0.3408240\ttotal: 6.23s\tremaining: 147ms\n",
      "977:\tlearn: 0.3407707\ttotal: 6.24s\tremaining: 140ms\n",
      "978:\tlearn: 0.3407588\ttotal: 6.24s\tremaining: 134ms\n",
      "979:\tlearn: 0.3407314\ttotal: 6.25s\tremaining: 128ms\n",
      "980:\tlearn: 0.3407137\ttotal: 6.25s\tremaining: 121ms\n",
      "981:\tlearn: 0.3406849\ttotal: 6.26s\tremaining: 115ms\n",
      "982:\tlearn: 0.3406572\ttotal: 6.26s\tremaining: 108ms\n",
      "983:\tlearn: 0.3406244\ttotal: 6.27s\tremaining: 102ms\n",
      "984:\tlearn: 0.3405927\ttotal: 6.28s\tremaining: 95.6ms\n",
      "985:\tlearn: 0.3405597\ttotal: 6.28s\tremaining: 89.2ms\n",
      "986:\tlearn: 0.3405184\ttotal: 6.29s\tremaining: 82.8ms\n",
      "987:\tlearn: 0.3404948\ttotal: 6.29s\tremaining: 76.4ms\n",
      "988:\tlearn: 0.3404551\ttotal: 6.3s\tremaining: 70.1ms\n",
      "989:\tlearn: 0.3404231\ttotal: 6.31s\tremaining: 63.7ms\n",
      "990:\tlearn: 0.3403908\ttotal: 6.31s\tremaining: 57.3ms\n",
      "991:\tlearn: 0.3403652\ttotal: 6.32s\tremaining: 51ms\n",
      "992:\tlearn: 0.3403320\ttotal: 6.33s\tremaining: 44.6ms\n",
      "993:\tlearn: 0.3403058\ttotal: 6.33s\tremaining: 38.2ms\n",
      "994:\tlearn: 0.3402594\ttotal: 6.34s\tremaining: 31.9ms\n",
      "995:\tlearn: 0.3402334\ttotal: 6.34s\tremaining: 25.5ms\n",
      "996:\tlearn: 0.3402041\ttotal: 6.35s\tremaining: 19.1ms\n",
      "997:\tlearn: 0.3401682\ttotal: 6.36s\tremaining: 12.7ms\n",
      "998:\tlearn: 0.3401375\ttotal: 6.36s\tremaining: 6.37ms\n",
      "999:\tlearn: 0.3401028\ttotal: 6.37s\tremaining: 0us\n"
     ]
    },
    {
     "output_type": "execute_result",
     "data": {
      "text/plain": [
       "<catboost.core.CatBoostRegressor at 0x2cc45392248>"
      ]
     },
     "metadata": {},
     "execution_count": 130
    }
   ],
   "source": [
    "## Build model\n",
    "#\n",
    "independent_variables =[\"enrollee_id\",\"city\",\"city_development_index\",\"gender\",\"relevent_experience\",\"enrolled_university\",\"education_level\",\"major_discipline\",\"experience\",\"company_size\",\"company_type\",\"last_new_job\",\"training_hours\"]\n",
    "\n",
    "dependent_variables = 'target'\n",
    "\n",
    "## Installation\n",
    "# pip install catboost\n",
    "from catboost import CatBoostRegressor, Pool\n",
    "from sklearn.metrics import r2_score, mean_squared_error\n",
    "\n",
    "model = CatBoostRegressor(objective='RMSE')\n",
    "model.fit(dataset_train[independent_variables], dataset_train[dependent_variables])\n"
   ]
  },
  {
   "cell_type": "code",
   "execution_count": 131,
   "metadata": {},
   "outputs": [
    {
     "output_type": "execute_result",
     "data": {
      "text/plain": [
       "array([ 0.14209087,  0.26018582,  0.3081245 , ..., -0.03572781,\n",
       "        0.03118641,  0.07421645])"
      ]
     },
     "metadata": {},
     "execution_count": 131
    }
   ],
   "source": [
    "## Predictions\n",
    "#\n",
    "predictions = model.predict(dataset_test[independent_variables])\n",
    "predictions"
   ]
  },
  {
   "cell_type": "code",
   "execution_count": 134,
   "metadata": {},
   "outputs": [
    {
     "output_type": "execute_result",
     "data": {
      "text/plain": [
       "0.8791558759942371"
      ]
     },
     "metadata": {},
     "execution_count": 134
    }
   ],
   "source": [
    "## Accuracy\n",
    "#\n",
    "from sklearn import metrics\n",
    "fpr, tpr, thresholds = metrics.roc_curve(dataset_train[dependent_variables],  model.predict(dataset_train[independent_variables]))\n",
    "metrics.auc(fpr, tpr)"
   ]
  },
  {
   "cell_type": "code",
   "execution_count": 135,
   "metadata": {},
   "outputs": [
    {
     "output_type": "execute_result",
     "data": {
      "text/plain": [
       "       enroll_id    result\n",
       "19158      32403  0.142091\n",
       "19159       9858  0.260186\n",
       "19160      31806  0.308125\n",
       "19161      27385  0.091266\n",
       "19162      27724  0.109962"
      ],
      "text/html": "<div>\n<style scoped>\n    .dataframe tbody tr th:only-of-type {\n        vertical-align: middle;\n    }\n\n    .dataframe tbody tr th {\n        vertical-align: top;\n    }\n\n    .dataframe thead th {\n        text-align: right;\n    }\n</style>\n<table border=\"1\" class=\"dataframe\">\n  <thead>\n    <tr style=\"text-align: right;\">\n      <th></th>\n      <th>enroll_id</th>\n      <th>result</th>\n    </tr>\n  </thead>\n  <tbody>\n    <tr>\n      <th>19158</th>\n      <td>32403</td>\n      <td>0.142091</td>\n    </tr>\n    <tr>\n      <th>19159</th>\n      <td>9858</td>\n      <td>0.260186</td>\n    </tr>\n    <tr>\n      <th>19160</th>\n      <td>31806</td>\n      <td>0.308125</td>\n    </tr>\n    <tr>\n      <th>19161</th>\n      <td>27385</td>\n      <td>0.091266</td>\n    </tr>\n    <tr>\n      <th>19162</th>\n      <td>27724</td>\n      <td>0.109962</td>\n    </tr>\n  </tbody>\n</table>\n</div>"
     },
     "metadata": {},
     "execution_count": 135
    }
   ],
   "source": [
    "## Generate report\n",
    "#\n",
    "results = pd.DataFrame({'enroll_id':dataset_test.enrollee_id, 'result':predictions})\n",
    "results.head()"
   ]
  },
  {
   "cell_type": "code",
   "execution_count": 145,
   "metadata": {},
   "outputs": [
    {
     "output_type": "stream",
     "name": "stdout",
     "text": [
      "Following are enroll_id are about to get new job as per our preduction\n       enroll_id  result\n21010      22468       1\n20460       7645       1\n19418      26325       1\n20036      27338       1\n21044      22430       1\n21043      19648       1\n21042      25614       1\n20031      22520       1\n20474      28252       1\n20808      19550       1\n"
     ]
    }
   ],
   "source": [
    "# segregate result\n",
    "def segregator(data):\n",
    "    if(data.result > 0.5):\n",
    "        return 1\n",
    "    else:\n",
    "        return 0\n",
    "    \n",
    "results['result'] = results.apply(func = segregator, axis = 'columns')\n",
    "\n",
    "results = results.sort_values(by = 'result', ascending = False)\n",
    "print(\"Following are enroll_id are about to get new job as per our preduction\")\n",
    "top10 = results[:10]\n",
    "print(top10)"
   ]
  },
  {
   "cell_type": "code",
   "execution_count": 146,
   "metadata": {},
   "outputs": [
    {
     "output_type": "stream",
     "name": "stdout",
     "text": [
      "prediction list generated and saved.\n"
     ]
    }
   ],
   "source": [
    "# Sheet\n",
    "file_name = \"final_results.xlsx\"\n",
    "results.to_excel(file_name, index = False)\n",
    "print(\"prediction list generated and saved.\")\n"
   ]
  },
  {
   "cell_type": "code",
   "execution_count": 2,
   "metadata": {},
   "outputs": [
    {
     "output_type": "stream",
     "name": "stderr",
     "text": [
      "[NbConvertApp] Converting notebook new_job.ipynb to script\n[NbConvertApp] Writing 5314 bytes to new_job.py\n"
     ]
    }
   ],
   "source": [
    "! jupyter nbconvert --to script new_job.ipynb"
   ]
  },
  {
   "cell_type": "code",
   "execution_count": null,
   "metadata": {},
   "outputs": [],
   "source": [
    "## End\n",
    "#"
   ]
  }
 ]
}